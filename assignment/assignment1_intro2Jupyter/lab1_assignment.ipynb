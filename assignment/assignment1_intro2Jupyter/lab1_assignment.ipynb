{
 "cells": [
  {
   "cell_type": "code",
   "execution_count": 1,
   "metadata": {},
   "outputs": [],
   "source": [
    "import numpy as np\n",
    "import pandas as pd\n",
    "import seaborn as sns"
   ]
  },
  {
   "cell_type": "markdown",
   "metadata": {},
   "source": [
    "## Data Exploration"
   ]
  },
  {
   "cell_type": "code",
   "execution_count": 2,
   "metadata": {},
   "outputs": [],
   "source": [
    "df = pd.read_csv(\"./2019_nCoV_data_new.csv\")"
   ]
  },
  {
   "cell_type": "code",
   "execution_count": 3,
   "metadata": {},
   "outputs": [
    {
     "data": {
      "text/html": [
       "<div>\n",
       "<style scoped>\n",
       "    .dataframe tbody tr th:only-of-type {\n",
       "        vertical-align: middle;\n",
       "    }\n",
       "\n",
       "    .dataframe tbody tr th {\n",
       "        vertical-align: top;\n",
       "    }\n",
       "\n",
       "    .dataframe thead th {\n",
       "        text-align: right;\n",
       "    }\n",
       "</style>\n",
       "<table border=\"1\" class=\"dataframe\">\n",
       "  <thead>\n",
       "    <tr style=\"text-align: right;\">\n",
       "      <th></th>\n",
       "      <th>Sno</th>\n",
       "      <th>Date</th>\n",
       "      <th>Province/State</th>\n",
       "      <th>Country</th>\n",
       "      <th>Last Update</th>\n",
       "      <th>Confirmed</th>\n",
       "      <th>Deaths</th>\n",
       "      <th>Recovered</th>\n",
       "    </tr>\n",
       "  </thead>\n",
       "  <tbody>\n",
       "    <tr>\n",
       "      <td>0</td>\n",
       "      <td>1</td>\n",
       "      <td>1/22/2020 12:00</td>\n",
       "      <td>Anhui</td>\n",
       "      <td>China</td>\n",
       "      <td>1/22/2020 12:00</td>\n",
       "      <td>1.0</td>\n",
       "      <td>0.0</td>\n",
       "      <td>0.0</td>\n",
       "    </tr>\n",
       "    <tr>\n",
       "      <td>1</td>\n",
       "      <td>2</td>\n",
       "      <td>1/22/2020 12:00</td>\n",
       "      <td>Beijing</td>\n",
       "      <td>China</td>\n",
       "      <td>1/22/2020 12:00</td>\n",
       "      <td>14.0</td>\n",
       "      <td>0.0</td>\n",
       "      <td>0.0</td>\n",
       "    </tr>\n",
       "    <tr>\n",
       "      <td>2</td>\n",
       "      <td>3</td>\n",
       "      <td>1/22/2020 12:00</td>\n",
       "      <td>Chongqing</td>\n",
       "      <td>China</td>\n",
       "      <td>1/22/2020 12:00</td>\n",
       "      <td>6.0</td>\n",
       "      <td>0.0</td>\n",
       "      <td>0.0</td>\n",
       "    </tr>\n",
       "    <tr>\n",
       "      <td>3</td>\n",
       "      <td>4</td>\n",
       "      <td>1/22/2020 12:00</td>\n",
       "      <td>Fujian</td>\n",
       "      <td>China</td>\n",
       "      <td>1/22/2020 12:00</td>\n",
       "      <td>1.0</td>\n",
       "      <td>0.0</td>\n",
       "      <td>0.0</td>\n",
       "    </tr>\n",
       "    <tr>\n",
       "      <td>4</td>\n",
       "      <td>5</td>\n",
       "      <td>1/22/2020 12:00</td>\n",
       "      <td>Gansu</td>\n",
       "      <td>China</td>\n",
       "      <td>1/22/2020 12:00</td>\n",
       "      <td>0.0</td>\n",
       "      <td>0.0</td>\n",
       "      <td>0.0</td>\n",
       "    </tr>\n",
       "    <tr>\n",
       "      <td>5</td>\n",
       "      <td>6</td>\n",
       "      <td>1/22/2020 12:00</td>\n",
       "      <td>Guangdong</td>\n",
       "      <td>China</td>\n",
       "      <td>1/22/2020 12:00</td>\n",
       "      <td>26.0</td>\n",
       "      <td>0.0</td>\n",
       "      <td>0.0</td>\n",
       "    </tr>\n",
       "    <tr>\n",
       "      <td>6</td>\n",
       "      <td>7</td>\n",
       "      <td>1/22/2020 12:00</td>\n",
       "      <td>Guangxi</td>\n",
       "      <td>China</td>\n",
       "      <td>1/22/2020 12:00</td>\n",
       "      <td>2.0</td>\n",
       "      <td>0.0</td>\n",
       "      <td>0.0</td>\n",
       "    </tr>\n",
       "    <tr>\n",
       "      <td>7</td>\n",
       "      <td>8</td>\n",
       "      <td>1/22/2020 12:00</td>\n",
       "      <td>Guizhou</td>\n",
       "      <td>China</td>\n",
       "      <td>1/22/2020 12:00</td>\n",
       "      <td>1.0</td>\n",
       "      <td>0.0</td>\n",
       "      <td>0.0</td>\n",
       "    </tr>\n",
       "    <tr>\n",
       "      <td>8</td>\n",
       "      <td>9</td>\n",
       "      <td>1/22/2020 12:00</td>\n",
       "      <td>Hainan</td>\n",
       "      <td>China</td>\n",
       "      <td>1/22/2020 12:00</td>\n",
       "      <td>4.0</td>\n",
       "      <td>0.0</td>\n",
       "      <td>0.0</td>\n",
       "    </tr>\n",
       "    <tr>\n",
       "      <td>9</td>\n",
       "      <td>10</td>\n",
       "      <td>1/22/2020 12:00</td>\n",
       "      <td>Hebei</td>\n",
       "      <td>China</td>\n",
       "      <td>1/22/2020 12:00</td>\n",
       "      <td>1.0</td>\n",
       "      <td>0.0</td>\n",
       "      <td>0.0</td>\n",
       "    </tr>\n",
       "  </tbody>\n",
       "</table>\n",
       "</div>"
      ],
      "text/plain": [
       "   Sno             Date Province/State Country      Last Update  Confirmed  \\\n",
       "0    1  1/22/2020 12:00          Anhui   China  1/22/2020 12:00        1.0   \n",
       "1    2  1/22/2020 12:00        Beijing   China  1/22/2020 12:00       14.0   \n",
       "2    3  1/22/2020 12:00      Chongqing   China  1/22/2020 12:00        6.0   \n",
       "3    4  1/22/2020 12:00         Fujian   China  1/22/2020 12:00        1.0   \n",
       "4    5  1/22/2020 12:00          Gansu   China  1/22/2020 12:00        0.0   \n",
       "5    6  1/22/2020 12:00      Guangdong   China  1/22/2020 12:00       26.0   \n",
       "6    7  1/22/2020 12:00        Guangxi   China  1/22/2020 12:00        2.0   \n",
       "7    8  1/22/2020 12:00        Guizhou   China  1/22/2020 12:00        1.0   \n",
       "8    9  1/22/2020 12:00         Hainan   China  1/22/2020 12:00        4.0   \n",
       "9   10  1/22/2020 12:00          Hebei   China  1/22/2020 12:00        1.0   \n",
       "\n",
       "   Deaths  Recovered  \n",
       "0     0.0        0.0  \n",
       "1     0.0        0.0  \n",
       "2     0.0        0.0  \n",
       "3     0.0        0.0  \n",
       "4     0.0        0.0  \n",
       "5     0.0        0.0  \n",
       "6     0.0        0.0  \n",
       "7     0.0        0.0  \n",
       "8     0.0        0.0  \n",
       "9     0.0        0.0  "
      ]
     },
     "execution_count": 3,
     "metadata": {},
     "output_type": "execute_result"
    }
   ],
   "source": [
    "df.head(10)"
   ]
  },
  {
   "cell_type": "markdown",
   "metadata": {},
   "source": [
    "## Question\n",
    "#### Given that the number of patients with confirmed 2019-nCoV is increasing over time (in January), why there are drops in the chart generated from the notebook we created in class? \n",
    "Find the notebook [here](https://github.com/nyuvis/visual_analytics_course/blob/master/labs/lab1_Jupyter/2019_nCov.ipynb)"
   ]
  },
  {
   "cell_type": "code",
   "execution_count": null,
   "metadata": {},
   "outputs": [],
   "source": [
    "### put your answer here\n"
   ]
  },
  {
   "cell_type": "markdown",
   "metadata": {},
   "source": [
    "## Preprocessing\n",
    "Because we want to generate a line chart where x-positions represent unique dates, we need to preprocess the date. In this dataset, there are differernt formats of date and time in the dataset, so we change all the date and time information into a uniform format with only date information.\n",
    "\n",
    "\n",
    "Here we use the libraray `datetime` to achieve this. If you do not have this libraray, please install it. More details of the library `datetime` can be found here: https://docs.python.org/3.4/library/datetime.html?highlight=datetime\n",
    "\n",
    "You can see a few examples of tranforming a time string into a `datetime.date` type. *%m* means Month as a zero-padded decimal number; *%M* means Minute as a zero-padded decimal number. The meanings can also be found in the library documentation.\n",
    " "
   ]
  },
  {
   "cell_type": "code",
   "execution_count": 4,
   "metadata": {},
   "outputs": [],
   "source": [
    "import datetime"
   ]
  },
  {
   "cell_type": "code",
   "execution_count": 5,
   "metadata": {},
   "outputs": [
    {
     "data": {
      "text/plain": [
       "datetime.date(2020, 1, 23)"
      ]
     },
     "execution_count": 5,
     "metadata": {},
     "output_type": "execute_result"
    }
   ],
   "source": [
    "# 1/23/20 12:00 PM\n",
    "datetime.datetime.strptime('1/23/20 12:00 PM', \"%m/%d/%y %I:%M %p\").date()"
   ]
  },
  {
   "cell_type": "code",
   "execution_count": 6,
   "metadata": {},
   "outputs": [
    {
     "data": {
      "text/plain": [
       "datetime.date(2020, 2, 1)"
      ]
     },
     "execution_count": 6,
     "metadata": {},
     "output_type": "execute_result"
    }
   ],
   "source": [
    "# 2020-01-02 23:33:00\n",
    "datetime.datetime.strptime('2020-01-02 23:33:00', \"%Y-%d-%m %H:%M:%S\").date()"
   ]
  },
  {
   "cell_type": "markdown",
   "metadata": {},
   "source": [
    "### Task 0: add one column of 'Date' for dates in a uniform format. \n",
    "Code is provided below, you do not need to change it."
   ]
  },
  {
   "cell_type": "code",
   "execution_count": 7,
   "metadata": {},
   "outputs": [],
   "source": [
    "dates = []\n",
    "for x in df['Last Update']:\n",
    "    try:\n",
    "        pos = x.index('2020')\n",
    "        fullyear = True\n",
    "    except:\n",
    "        fullyear = False\n",
    "        \n",
    "    try:\n",
    "        pos = x.index('PM')\n",
    "        hour24 = False\n",
    "    except:\n",
    "        hour24 = True\n",
    "        \n",
    "        \n",
    "    if (fullyear and hour24):        \n",
    "        dates.append(datetime.datetime.strptime(x, \"%m/%d/%Y %H:%M\").date())\n",
    "    elif (fullyear and not hour24):\n",
    "        dates.append(datetime.datetime.strptime(x, \"%m/%d/%Y %I:%M %p\").date())\n",
    "    elif (not fullyear and not hour24):\n",
    "        dates.append(datetime.datetime.strptime(x, \"%m/%d/%y %I:%M %p\").date())\n",
    "\n",
    "df['Date'] = dates"
   ]
  },
  {
   "cell_type": "markdown",
   "metadata": {},
   "source": [
    "## Task 1: get unique values in the column `Date` and print them."
   ]
  },
  {
   "cell_type": "code",
   "execution_count": null,
   "metadata": {},
   "outputs": [],
   "source": []
  },
  {
   "cell_type": "markdown",
   "metadata": {},
   "source": [
    "## Task 2: construct a DataFrame for plotting a line chart.\n",
    "Please construct a DataFrame with 4 columns: Date, confirmed, recovered, deaths"
   ]
  },
  {
   "cell_type": "code",
   "execution_count": null,
   "metadata": {},
   "outputs": [],
   "source": []
  },
  {
   "cell_type": "markdown",
   "metadata": {},
   "source": [
    "## Task 3: Visualization\n",
    "Plot a line chart that shows how the values of \"confirmed\", \"recovered\", and \"deaths\" change over time."
   ]
  },
  {
   "cell_type": "code",
   "execution_count": null,
   "metadata": {},
   "outputs": [],
   "source": []
  },
  {
   "cell_type": "markdown",
   "metadata": {},
   "source": [
    "## Task 4: Markdown Grammar Practice\n",
    "Please read the content of markdown cells in the slides/pdf of the lab. Create a few markdown cells as described below:\n",
    "- A header\n",
    "- A ordered list\n",
    "- A bullet list\n",
    "- Bold and Italics text"
   ]
  },
  {
   "cell_type": "code",
   "execution_count": null,
   "metadata": {},
   "outputs": [],
   "source": []
  }
 ],
 "metadata": {
  "kernelspec": {
   "display_name": "Python 3",
   "language": "python",
   "name": "python3"
  },
  "language_info": {
   "codemirror_mode": {
    "name": "ipython",
    "version": 3
   },
   "file_extension": ".py",
   "mimetype": "text/x-python",
   "name": "python",
   "nbconvert_exporter": "python",
   "pygments_lexer": "ipython3",
   "version": "3.7.3"
  }
 },
 "nbformat": 4,
 "nbformat_minor": 4
}
