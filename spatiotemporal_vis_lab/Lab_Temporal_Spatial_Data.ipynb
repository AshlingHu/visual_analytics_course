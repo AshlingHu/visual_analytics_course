{
 "cells": [
  {
   "cell_type": "code",
   "execution_count": 1,
   "metadata": {},
   "outputs": [],
   "source": [
    "import pandas as pd\n",
    "import numpy as np\n",
    "import seaborn as sns\n",
    "import datetime \n",
    "import calendar      \n",
    "import matplotlib.pyplot as plt\n",
    "import matplotlib "
   ]
  },
  {
   "cell_type": "code",
   "execution_count": 2,
   "metadata": {},
   "outputs": [
    {
     "name": "stdout",
     "output_type": "stream",
     "text": [
      "(100000, 18)\n"
     ]
    }
   ],
   "source": [
    "df = pd.read_csv(filepath_or_buffer=\"sampled_taxi.csv\",sep=',',\n",
    "                         header=0, index_col=None, lineterminator='\\n')\n",
    "print(df.shape)"
   ]
  },
  {
   "cell_type": "code",
   "execution_count": 3,
   "metadata": {},
   "outputs": [
    {
     "data": {
      "text/html": [
       "<div>\n",
       "<style scoped>\n",
       "    .dataframe tbody tr th:only-of-type {\n",
       "        vertical-align: middle;\n",
       "    }\n",
       "\n",
       "    .dataframe tbody tr th {\n",
       "        vertical-align: top;\n",
       "    }\n",
       "\n",
       "    .dataframe thead th {\n",
       "        text-align: right;\n",
       "    }\n",
       "</style>\n",
       "<table border=\"1\" class=\"dataframe\">\n",
       "  <thead>\n",
       "    <tr style=\"text-align: right;\">\n",
       "      <th></th>\n",
       "      <th>VendorID</th>\n",
       "      <th>pickup_datetime</th>\n",
       "      <th>dropoff_datetime</th>\n",
       "      <th>Pickup_longitude</th>\n",
       "      <th>Pickup_latitude</th>\n",
       "      <th>Dropoff_longitude</th>\n",
       "      <th>Dropoff_latitude</th>\n",
       "      <th>Passenger_count</th>\n",
       "      <th>Trip_distance</th>\n",
       "      <th>Fare_amount</th>\n",
       "      <th>Extra</th>\n",
       "      <th>MTA_tax</th>\n",
       "      <th>Tip_amount</th>\n",
       "      <th>Tolls_amount</th>\n",
       "      <th>improvement_surcharge</th>\n",
       "      <th>Total_amount</th>\n",
       "      <th>Payment_type</th>\n",
       "      <th>Trip_type</th>\n",
       "    </tr>\n",
       "  </thead>\n",
       "  <tbody>\n",
       "    <tr>\n",
       "      <th>0</th>\n",
       "      <td>2</td>\n",
       "      <td>06/16/2016 10:18:09 AM</td>\n",
       "      <td>06/16/2016 10:32:32 AM</td>\n",
       "      <td>-73.978424</td>\n",
       "      <td>40.666683</td>\n",
       "      <td>-73.950439</td>\n",
       "      <td>40.681030</td>\n",
       "      <td>1</td>\n",
       "      <td>2.58</td>\n",
       "      <td>11.5</td>\n",
       "      <td>0.0</td>\n",
       "      <td>0.5</td>\n",
       "      <td>0.00</td>\n",
       "      <td>0.0</td>\n",
       "      <td>0.3</td>\n",
       "      <td>12.30</td>\n",
       "      <td>2</td>\n",
       "      <td>1.0</td>\n",
       "    </tr>\n",
       "    <tr>\n",
       "      <th>1</th>\n",
       "      <td>2</td>\n",
       "      <td>06/19/2016 04:09:59 PM</td>\n",
       "      <td>06/19/2016 04:24:11 PM</td>\n",
       "      <td>-73.991203</td>\n",
       "      <td>40.685532</td>\n",
       "      <td>-73.985603</td>\n",
       "      <td>40.668816</td>\n",
       "      <td>1</td>\n",
       "      <td>1.87</td>\n",
       "      <td>11.0</td>\n",
       "      <td>0.0</td>\n",
       "      <td>0.5</td>\n",
       "      <td>2.95</td>\n",
       "      <td>0.0</td>\n",
       "      <td>0.3</td>\n",
       "      <td>14.75</td>\n",
       "      <td>1</td>\n",
       "      <td>1.0</td>\n",
       "    </tr>\n",
       "    <tr>\n",
       "      <th>2</th>\n",
       "      <td>1</td>\n",
       "      <td>06/15/2016 11:22:07 AM</td>\n",
       "      <td>06/15/2016 11:34:03 AM</td>\n",
       "      <td>-73.954796</td>\n",
       "      <td>40.789211</td>\n",
       "      <td>-73.941444</td>\n",
       "      <td>40.788609</td>\n",
       "      <td>1</td>\n",
       "      <td>1.00</td>\n",
       "      <td>9.0</td>\n",
       "      <td>0.0</td>\n",
       "      <td>0.5</td>\n",
       "      <td>1.95</td>\n",
       "      <td>0.0</td>\n",
       "      <td>0.3</td>\n",
       "      <td>11.75</td>\n",
       "      <td>1</td>\n",
       "      <td>1.0</td>\n",
       "    </tr>\n",
       "    <tr>\n",
       "      <th>3</th>\n",
       "      <td>2</td>\n",
       "      <td>06/18/2016 06:30:07 AM</td>\n",
       "      <td>06/18/2016 06:37:29 AM</td>\n",
       "      <td>-73.951561</td>\n",
       "      <td>40.811962</td>\n",
       "      <td>-73.967468</td>\n",
       "      <td>40.792873</td>\n",
       "      <td>1</td>\n",
       "      <td>1.78</td>\n",
       "      <td>8.0</td>\n",
       "      <td>0.0</td>\n",
       "      <td>0.5</td>\n",
       "      <td>1.76</td>\n",
       "      <td>0.0</td>\n",
       "      <td>0.3</td>\n",
       "      <td>10.56</td>\n",
       "      <td>1</td>\n",
       "      <td>1.0</td>\n",
       "    </tr>\n",
       "    <tr>\n",
       "      <th>4</th>\n",
       "      <td>2</td>\n",
       "      <td>06/17/2016 08:53:31 PM</td>\n",
       "      <td>06/17/2016 09:05:34 PM</td>\n",
       "      <td>-73.986336</td>\n",
       "      <td>40.703938</td>\n",
       "      <td>-73.997955</td>\n",
       "      <td>40.682999</td>\n",
       "      <td>1</td>\n",
       "      <td>2.29</td>\n",
       "      <td>10.0</td>\n",
       "      <td>0.5</td>\n",
       "      <td>0.5</td>\n",
       "      <td>3.39</td>\n",
       "      <td>0.0</td>\n",
       "      <td>0.3</td>\n",
       "      <td>14.69</td>\n",
       "      <td>1</td>\n",
       "      <td>1.0</td>\n",
       "    </tr>\n",
       "  </tbody>\n",
       "</table>\n",
       "</div>"
      ],
      "text/plain": [
       "   VendorID         pickup_datetime        dropoff_datetime  Pickup_longitude  \\\n",
       "0         2  06/16/2016 10:18:09 AM  06/16/2016 10:32:32 AM        -73.978424   \n",
       "1         2  06/19/2016 04:09:59 PM  06/19/2016 04:24:11 PM        -73.991203   \n",
       "2         1  06/15/2016 11:22:07 AM  06/15/2016 11:34:03 AM        -73.954796   \n",
       "3         2  06/18/2016 06:30:07 AM  06/18/2016 06:37:29 AM        -73.951561   \n",
       "4         2  06/17/2016 08:53:31 PM  06/17/2016 09:05:34 PM        -73.986336   \n",
       "\n",
       "   Pickup_latitude  Dropoff_longitude  Dropoff_latitude  Passenger_count  \\\n",
       "0        40.666683         -73.950439         40.681030                1   \n",
       "1        40.685532         -73.985603         40.668816                1   \n",
       "2        40.789211         -73.941444         40.788609                1   \n",
       "3        40.811962         -73.967468         40.792873                1   \n",
       "4        40.703938         -73.997955         40.682999                1   \n",
       "\n",
       "   Trip_distance  Fare_amount  Extra  MTA_tax  Tip_amount  Tolls_amount  \\\n",
       "0           2.58         11.5    0.0      0.5        0.00           0.0   \n",
       "1           1.87         11.0    0.0      0.5        2.95           0.0   \n",
       "2           1.00          9.0    0.0      0.5        1.95           0.0   \n",
       "3           1.78          8.0    0.0      0.5        1.76           0.0   \n",
       "4           2.29         10.0    0.5      0.5        3.39           0.0   \n",
       "\n",
       "   improvement_surcharge  Total_amount  Payment_type  Trip_type   \n",
       "0                    0.3         12.30             2         1.0  \n",
       "1                    0.3         14.75             1         1.0  \n",
       "2                    0.3         11.75             1         1.0  \n",
       "3                    0.3         10.56             1         1.0  \n",
       "4                    0.3         14.69             1         1.0  "
      ]
     },
     "execution_count": 3,
     "metadata": {},
     "output_type": "execute_result"
    }
   ],
   "source": [
    "df.head()"
   ]
  },
  {
   "cell_type": "markdown",
   "metadata": {},
   "source": [
    "### Pre-processing: transform date into week, weekday, hours"
   ]
  },
  {
   "cell_type": "code",
   "execution_count": 4,
   "metadata": {},
   "outputs": [
    {
     "name": "stdout",
     "output_type": "stream",
     "text": [
      "<class 'pandas.core.frame.DataFrame'>\n",
      "RangeIndex: 100000 entries, 0 to 99999\n",
      "Data columns (total 18 columns):\n",
      "VendorID                 100000 non-null int64\n",
      "pickup_datetime          100000 non-null datetime64[ns]\n",
      "dropoff_datetime         100000 non-null datetime64[ns]\n",
      "Pickup_longitude         100000 non-null float64\n",
      "Pickup_latitude          100000 non-null float64\n",
      "Dropoff_longitude        100000 non-null float64\n",
      "Dropoff_latitude         100000 non-null float64\n",
      "Passenger_count          100000 non-null int64\n",
      "Trip_distance            100000 non-null float64\n",
      "Fare_amount              100000 non-null float64\n",
      "Extra                    100000 non-null float64\n",
      "MTA_tax                  100000 non-null float64\n",
      "Tip_amount               100000 non-null float64\n",
      "Tolls_amount             100000 non-null float64\n",
      "improvement_surcharge    100000 non-null float64\n",
      "Total_amount             100000 non-null float64\n",
      "Payment_type             100000 non-null int64\n",
      "Trip_type                100000 non-null float64\n",
      "dtypes: datetime64[ns](2), float64(13), int64(3)\n",
      "memory usage: 13.7 MB\n"
     ]
    }
   ],
   "source": [
    "df[\"pickup_datetime\"] = pd.to_datetime(df.pickup_datetime)\n",
    "df[\"dropoff_datetime\"] = pd.to_datetime(df.dropoff_datetime)\n",
    "\n",
    "df.info()"
   ]
  },
  {
   "cell_type": "code",
   "execution_count": 5,
   "metadata": {},
   "outputs": [],
   "source": [
    "df['week'] = df.pickup_datetime.dt.week\n",
    "df['weekday'] = df.pickup_datetime.dt.weekday\n",
    "df['hour'] = df.pickup_datetime.dt.hour"
   ]
  },
  {
   "cell_type": "code",
   "execution_count": 6,
   "metadata": {},
   "outputs": [],
   "source": [
    "# generate new features 'month' and 'day'\n",
    "\n",
    "\n",
    "\n"
   ]
  },
  {
   "cell_type": "markdown",
   "metadata": {},
   "source": [
    "### Visualize the pickup count changes by time"
   ]
  },
  {
   "cell_type": "markdown",
   "metadata": {},
   "source": [
    "#### change over day"
   ]
  },
  {
   "cell_type": "code",
   "execution_count": null,
   "metadata": {},
   "outputs": [],
   "source": []
  },
  {
   "cell_type": "markdown",
   "metadata": {},
   "source": [
    "#### change over weekday"
   ]
  },
  {
   "cell_type": "code",
   "execution_count": null,
   "metadata": {},
   "outputs": [],
   "source": []
  },
  {
   "cell_type": "markdown",
   "metadata": {},
   "source": [
    "#### change over hour"
   ]
  },
  {
   "cell_type": "code",
   "execution_count": null,
   "metadata": {},
   "outputs": [],
   "source": []
  },
  {
   "cell_type": "markdown",
   "metadata": {},
   "source": [
    "### Visualize the trip durations (unit: minute)"
   ]
  },
  {
   "cell_type": "code",
   "execution_count": 7,
   "metadata": {},
   "outputs": [],
   "source": [
    "df['duration'] = df['dropoff_datetime'] - df['pickup_datetime']"
   ]
  },
  {
   "cell_type": "code",
   "execution_count": 8,
   "metadata": {},
   "outputs": [],
   "source": [
    "df['duration'] = df['duration'].apply(lambda x: x.components.hours*60 + x.components.minutes + x.components.seconds/60.0)"
   ]
  },
  {
   "cell_type": "code",
   "execution_count": 9,
   "metadata": {},
   "outputs": [],
   "source": [
    "sns.set(style=\"white\", palette=\"muted\", color_codes=True)\n",
    "\n",
    "# add code for distribution plot here\n"
   ]
  },
  {
   "cell_type": "markdown",
   "metadata": {},
   "source": [
    "Try to use log function to flat the distribution"
   ]
  },
  {
   "cell_type": "code",
   "execution_count": null,
   "metadata": {},
   "outputs": [],
   "source": []
  },
  {
   "cell_type": "markdown",
   "metadata": {},
   "source": [
    "### Visualize the mean trip duration changes over time from different vendors"
   ]
  },
  {
   "cell_type": "code",
   "execution_count": 10,
   "metadata": {},
   "outputs": [
    {
     "data": {
      "text/plain": [
       "array([2, 1])"
      ]
     },
     "execution_count": 10,
     "metadata": {},
     "output_type": "execute_result"
    }
   ],
   "source": [
    "df['VendorID'].unique()"
   ]
  },
  {
   "cell_type": "code",
   "execution_count": 12,
   "metadata": {},
   "outputs": [],
   "source": [
    "df_v1 = pd.DataFrame(df[df['VendorID']==1].groupby('day')['duration'].mean())\n",
    "df_v1.reset_index(inplace = True)\n",
    "\n",
    "# Try to generate df_v2 in the same way for vendor 2\n",
    "\n"
   ]
  },
  {
   "cell_type": "code",
   "execution_count": null,
   "metadata": {},
   "outputs": [],
   "source": [
    "df_v1['VendorID'] = ['vendor_1'] * df_v1.shape[0]\n",
    "df_v2['VendorID'] = ['vendor_2'] * df_v2.shape[0]\n",
    "df_v1and2 = df_v1.copy()\n",
    "df_v1and2 = df_v1and2.append(df_v2)"
   ]
  },
  {
   "cell_type": "code",
   "execution_count": null,
   "metadata": {},
   "outputs": [],
   "source": [
    "df_v1.head()"
   ]
  },
  {
   "cell_type": "code",
   "execution_count": null,
   "metadata": {},
   "outputs": [],
   "source": [
    "f = plt.figure(figsize=(15,5))\n",
    "\n",
    "# generate line chart with 2 vendors\n",
    "\n"
   ]
  },
  {
   "cell_type": "markdown",
   "metadata": {},
   "source": [
    "### Feature relationship"
   ]
  },
  {
   "cell_type": "code",
   "execution_count": null,
   "metadata": {},
   "outputs": [],
   "source": [
    "df2 = df.copy()\n",
    "df2['duration']= np.log(df['duration']+1)\n",
    "\n",
    "df2 = df2.dropna(subset=['Passenger_count']) "
   ]
  },
  {
   "cell_type": "code",
   "execution_count": null,
   "metadata": {},
   "outputs": [],
   "source": [
    "f = plt.figure(figsize=(15,5))\n",
    "sns.set(style=\"whitegrid\", palette=\"pastel\", color_codes=True)\n",
    "sns.set_context(\"poster\")\n",
    "\n",
    "# generate violin plot here\n",
    "\n",
    "\n"
   ]
  },
  {
   "cell_type": "markdown",
   "metadata": {},
   "source": [
    "### Visualize the trips change over locations"
   ]
  },
  {
   "cell_type": "code",
   "execution_count": null,
   "metadata": {},
   "outputs": [],
   "source": [
    "import folium\n",
    "from folium import plugins"
   ]
  },
  {
   "cell_type": "code",
   "execution_count": null,
   "metadata": {},
   "outputs": [],
   "source": [
    "monday_trips = pd.DataFrame(df[df['weekday']==0][['Pickup_latitude', 'Pickup_longitude', 'hour']])\n"
   ]
  },
  {
   "cell_type": "markdown",
   "metadata": {},
   "source": [
    "#### Heatmap\n",
    "Density of Monday Pick-up and Drop-off\n",
    "\n",
    "The libraray `folium` (based on js library `leaflet`) is not using Kernal Density Estimate (KDE), but shows every data point as a blurred circle."
   ]
  },
  {
   "cell_type": "code",
   "execution_count": null,
   "metadata": {},
   "outputs": [],
   "source": [
    "# Create Monday Map\n",
    "# latitude first, then longitude\n",
    "monday = folium.Map([40.67, -73.97], zoom_start=10)\n",
    "# Add heatMap \n",
    "plugins.HeatMap(monday_trips[['Pickup_latitude', 'Pickup_longitude']].values, radius=15).add_to(monday)\n",
    "# Print heatMap\n",
    "monday"
   ]
  },
  {
   "cell_type": "code",
   "execution_count": null,
   "metadata": {},
   "outputs": [],
   "source": [
    "# Generate a map for number of drop-off on Monday\n"
   ]
  },
  {
   "cell_type": "markdown",
   "metadata": {},
   "source": [
    "## US map"
   ]
  },
  {
   "cell_type": "code",
   "execution_count": null,
   "metadata": {},
   "outputs": [],
   "source": [
    "us_df = pd.read_csv(filepath_or_buffer=\"US_Unemployment_Oct2012.csv\",sep=',',\n",
    "                         header=0, index_col=None, lineterminator='\\n')\n",
    "print(us_df.shape)"
   ]
  },
  {
   "cell_type": "markdown",
   "metadata": {},
   "source": [
    "### Different color scale for choropleth map\n",
    "We are still using `folium` library here. `plotly`(https://plot.ly/python/choropleth-maps/) also provides functions for rendering choropleth map.\n",
    "\n",
    "in the following code, 'YlGn' is a palette from `RColorBrewer palettes`"
   ]
  },
  {
   "cell_type": "code",
   "execution_count": null,
   "metadata": {},
   "outputs": [],
   "source": [
    "# Initialize the map:\n",
    "m = folium.Map(location=[37, -102], zoom_start=3)\n",
    " \n",
    "# Add the color for the choropleth:\n",
    "m.choropleth(\n",
    " geo_data='us-states.json',\n",
    " name='choropleth',\n",
    " data=us_df,\n",
    " columns=['State', 'Unemployment'],\n",
    " key_on='feature.id',\n",
    " fill_color='YlGn',\n",
    " fill_opacity=0.7,\n",
    " line_opacity=0.2,\n",
    " legend_name='Unemployment Rate (%)'\n",
    ")\n",
    "folium.LayerControl().add_to(m)\n",
    "m"
   ]
  },
  {
   "cell_type": "code",
   "execution_count": null,
   "metadata": {},
   "outputs": [],
   "source": [
    "# generate stops for the color scale\n",
    "\n"
   ]
  },
  {
   "cell_type": "code",
   "execution_count": null,
   "metadata": {},
   "outputs": [],
   "source": [
    "m2 = folium.Map(location=[37, -102], zoom_start=3)\n",
    " \n",
    "m2.choropleth(\n",
    " geo_data='us-states.json',\n",
    " name='choropleth',\n",
    " data=us_df,\n",
    " columns=['State', 'Unemployment'],\n",
    " key_on='feature.id',\n",
    " fill_color='YlGn',\n",
    " fill_opacity=0.7,\n",
    " line_opacity=0.2,\n",
    " legend_name='Unemployment Rate (%)',\n",
    " threshold_scale=stops\n",
    ")\n",
    "folium.LayerControl().add_to(m2)\n",
    "m2"
   ]
  },
  {
   "cell_type": "markdown",
   "metadata": {},
   "source": [
    "## Other maps"
   ]
  },
  {
   "cell_type": "markdown",
   "metadata": {},
   "source": [
    "The chart below is basically a scatterplot of pick-up locations. "
   ]
  },
  {
   "cell_type": "code",
   "execution_count": null,
   "metadata": {},
   "outputs": [],
   "source": [
    "from matplotlib import rcParams  \n",
    "rcParams['figure.figsize'] = (10, 10) #Size of figure  \n",
    "rcParams['figure.dpi'] = 250\n",
    "\n",
    "# put the code for scatter plot here\n",
    "\n",
    "p.set_facecolor((0.0, 0.0, 0.0))\n"
   ]
  }
 ],
 "metadata": {
  "kernelspec": {
   "display_name": "Python 3",
   "language": "python",
   "name": "python3"
  },
  "language_info": {
   "codemirror_mode": {
    "name": "ipython",
    "version": 3
   },
   "file_extension": ".py",
   "mimetype": "text/x-python",
   "name": "python",
   "nbconvert_exporter": "python",
   "pygments_lexer": "ipython3",
   "version": "3.7.3"
  }
 },
 "nbformat": 4,
 "nbformat_minor": 2
}
