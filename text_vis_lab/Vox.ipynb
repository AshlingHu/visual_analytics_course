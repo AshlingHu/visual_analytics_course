{
 "cells": [
  {
   "cell_type": "markdown",
   "metadata": {},
   "source": [
    "# Text Visualization Lab\n",
    "In this lab, you are going to analyse a dataset containing Vox articles published before March 21, 2017. After your analysis, you should be able to answer:\n",
    "#### - What are the topics of Vox articles?\n",
    "#### - How do these topics distribute in text (How many documents does each topic have)?\n",
    "\n",
    "### To answer the questions above, please follow the steps listed below, and demonstrate your results for each of them.\n",
    "1. Explore your data: What do you learn from the data sense-making process? \n",
    "2. Pre-process your data: What pre-processing methods are you using?\n",
    "3. Analyse your data.<br/>\n",
    "If you use any Machine Learning Models in your analysis, please answer:\n",
    "   - how do you choose your machine learning models used for this task?<br/>\n",
    "   - how do you select parameters?<br/><br/>\n",
    "   Hint: \n",
    "   - If you are going to use LDA, you should set corpus, id2word, and num_topics. It could run faster if we set other parameters as default. You can also change other parameters, then please state your reasons for changing this parameter in your notebook.\n",
    "   - There can be many topics, run your model with different num_topics and choose the results you like best. If there are some topics do not make sense to you, you can just ignore them in the later analysis part and do not need to rerun your model.\n",
    "   - You can use `get_document_topics()` function from `gensim.models.ldamodel` libarary to get the probabilities of each topic in this article. More information can be checked in <a href=\"https://radimrehurek.com/gensim/models/ldamodel.html\">this document</a>.\n",
    "   \n",
    "4. Display your answers for  `What are the topics of VOX articles?`, `How does those topics distribute in text? (How many documents does each topic have)` with <strong>static</strong> visualizations.\n",
    "\n",
    "### The data loading part is provided below. Please add your code and explanations after the data loading part.\n",
    "If you are new to Jupyter Notebook, you may need to know the following things:\n",
    "1. You can click `Cell`->`Cell Type`->`Markdown` to change the cell into text in Markdown format. Google `Markdown` to learn the grammar."
   ]
  },
  {
   "cell_type": "code",
   "execution_count": 1,
   "metadata": {},
   "outputs": [],
   "source": [
    "import numpy as np, pandas as pd\n",
    "import gensim, spacy\n",
    "import gensim.corpora as corpora\n",
    "from gensim.utils import lemmatize, simple_preprocess\n",
    "from gensim.models import CoherenceModel\n",
    "import matplotlib.pyplot as plt\n",
    "import nltk"
   ]
  },
  {
   "cell_type": "markdown",
   "metadata": {},
   "source": [
    "## Load Data"
   ]
  },
  {
   "cell_type": "code",
   "execution_count": 2,
   "metadata": {},
   "outputs": [],
   "source": [
    "data_loaded = pd.read_csv(filepath_or_buffer='VoxData.csv', sep=',', header=None, index_col=None)"
   ]
  },
  {
   "cell_type": "markdown",
   "metadata": {},
   "source": [
    "## Data Sense-making"
   ]
  },
  {
   "cell_type": "code",
   "execution_count": 3,
   "metadata": {},
   "outputs": [],
   "source": [
    "data = data_loaded.values\n",
    "data = data.reshape(data.shape[0],)\n",
    "data.tolist()[:1]"
   ]
  },
  {
   "cell_type": "markdown",
   "metadata": {},
   "source": [
    "## Data Preprocessing"
   ]
  },
  {
   "cell_type": "markdown",
   "metadata": {},
   "source": [
    "You need to replace all '\\n' into a space character `' '` or a real newline character `'\\n'`. Otherwise, you may get words like 'nthe' and 'nbut' which should be 'the' and 'but'"
   ]
  },
  {
   "cell_type": "markdown",
   "metadata": {},
   "source": [
    "## What are the topics of Vox articles?"
   ]
  },
  {
   "cell_type": "markdown",
   "metadata": {},
   "source": [
    "## How are topics distributed?"
   ]
  },
  {
   "cell_type": "code",
   "execution_count": null,
   "metadata": {},
   "outputs": [],
   "source": []
  }
 ],
 "metadata": {
  "kernelspec": {
   "display_name": "Python 3",
   "language": "python",
   "name": "python3"
  },
  "language_info": {
   "codemirror_mode": {
    "name": "ipython",
    "version": 3
   },
   "file_extension": ".py",
   "mimetype": "text/x-python",
   "name": "python",
   "nbconvert_exporter": "python",
   "pygments_lexer": "ipython3",
   "version": "3.6.1"
  }
 },
 "nbformat": 4,
 "nbformat_minor": 2
}
